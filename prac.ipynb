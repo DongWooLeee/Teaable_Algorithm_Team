{
 "cells": [
  {
   "cell_type": "code",
   "execution_count": 333,
   "id": "d5b4d241",
   "metadata": {},
   "outputs": [],
   "source": [
    "import numpy as np \n",
    "import pandas as pd\n",
    "import json\n"
   ]
  },
  {
   "cell_type": "code",
   "execution_count": 334,
   "id": "19faaefd",
   "metadata": {},
   "outputs": [],
   "source": [
    "#웹에서 가져온 데이터 필터값\n",
    "hyo = '1'\n",
    "caff ='X'\n",
    "hyang = '2'"
   ]
  },
  {
   "cell_type": "code",
   "execution_count": 335,
   "id": "d51f96b1",
   "metadata": {
    "scrolled": true
   },
   "outputs": [
    {
     "data": {
      "text/html": [
       "<div>\n",
       "<style scoped>\n",
       "    .dataframe tbody tr th:only-of-type {\n",
       "        vertical-align: middle;\n",
       "    }\n",
       "\n",
       "    .dataframe tbody tr th {\n",
       "        vertical-align: top;\n",
       "    }\n",
       "\n",
       "    .dataframe thead th {\n",
       "        text-align: right;\n",
       "    }\n",
       "</style>\n",
       "<table border=\"1\" class=\"dataframe\">\n",
       "  <thead>\n",
       "    <tr style=\"text-align: right;\">\n",
       "      <th></th>\n",
       "      <th>차품목</th>\n",
       "      <th>효능번호</th>\n",
       "      <th>카페인</th>\n",
       "      <th>향기준</th>\n",
       "    </tr>\n",
       "  </thead>\n",
       "  <tbody>\n",
       "    <tr>\n",
       "      <th>0</th>\n",
       "      <td>Bengal Spice</td>\n",
       "      <td>1</td>\n",
       "      <td>X</td>\n",
       "      <td>2</td>\n",
       "    </tr>\n",
       "    <tr>\n",
       "      <th>1</th>\n",
       "      <td>BerryBlossom White</td>\n",
       "      <td>1</td>\n",
       "      <td>O</td>\n",
       "      <td>1</td>\n",
       "    </tr>\n",
       "    <tr>\n",
       "      <th>2</th>\n",
       "      <td>Black Cherry Berry</td>\n",
       "      <td>3</td>\n",
       "      <td>X</td>\n",
       "      <td>1</td>\n",
       "    </tr>\n",
       "    <tr>\n",
       "      <th>3</th>\n",
       "      <td>Breakfast in Paris Black Tea</td>\n",
       "      <td>1</td>\n",
       "      <td>O</td>\n",
       "      <td>1,4</td>\n",
       "    </tr>\n",
       "    <tr>\n",
       "      <th>4</th>\n",
       "      <td>ButterScotch Blondie</td>\n",
       "      <td>3</td>\n",
       "      <td>O</td>\n",
       "      <td>4</td>\n",
       "    </tr>\n",
       "  </tbody>\n",
       "</table>\n",
       "</div>"
      ],
      "text/plain": [
       "                            차품목 효능번호 카페인  향기준\n",
       "0                  Bengal Spice    1   X    2\n",
       "1            BerryBlossom White    1   O    1\n",
       "2            Black Cherry Berry    3   X    1\n",
       "3  Breakfast in Paris Black Tea    1   O  1,4\n",
       "4          ButterScotch Blondie    3   O    4"
      ]
     },
     "execution_count": 335,
     "metadata": {},
     "output_type": "execute_result"
    }
   ],
   "source": [
    "meta = pd.read_csv('teaable.csv')\n",
    "\n",
    "meta.head()"
   ]
  },
  {
   "cell_type": "code",
   "execution_count": 336,
   "id": "91847c2b",
   "metadata": {},
   "outputs": [
    {
     "data": {
      "text/html": [
       "<div>\n",
       "<style scoped>\n",
       "    .dataframe tbody tr th:only-of-type {\n",
       "        vertical-align: middle;\n",
       "    }\n",
       "\n",
       "    .dataframe tbody tr th {\n",
       "        vertical-align: top;\n",
       "    }\n",
       "\n",
       "    .dataframe thead th {\n",
       "        text-align: right;\n",
       "    }\n",
       "</style>\n",
       "<table border=\"1\" class=\"dataframe\">\n",
       "  <thead>\n",
       "    <tr style=\"text-align: right;\">\n",
       "      <th></th>\n",
       "      <th>차품목</th>\n",
       "      <th>효능번호</th>\n",
       "      <th>카페인</th>\n",
       "      <th>향기준</th>\n",
       "    </tr>\n",
       "  </thead>\n",
       "  <tbody>\n",
       "    <tr>\n",
       "      <th>0</th>\n",
       "      <td>Bengal Spice</td>\n",
       "      <td>1</td>\n",
       "      <td>X</td>\n",
       "      <td>2</td>\n",
       "    </tr>\n",
       "    <tr>\n",
       "      <th>1</th>\n",
       "      <td>BerryBlossom White</td>\n",
       "      <td>1</td>\n",
       "      <td>O</td>\n",
       "      <td>1</td>\n",
       "    </tr>\n",
       "    <tr>\n",
       "      <th>2</th>\n",
       "      <td>Black Cherry Berry</td>\n",
       "      <td>3</td>\n",
       "      <td>X</td>\n",
       "      <td>1</td>\n",
       "    </tr>\n",
       "    <tr>\n",
       "      <th>3</th>\n",
       "      <td>Breakfast in Paris Black Tea</td>\n",
       "      <td>1</td>\n",
       "      <td>O</td>\n",
       "      <td>1,4</td>\n",
       "    </tr>\n",
       "    <tr>\n",
       "      <th>4</th>\n",
       "      <td>ButterScotch Blondie</td>\n",
       "      <td>3</td>\n",
       "      <td>O</td>\n",
       "      <td>4</td>\n",
       "    </tr>\n",
       "  </tbody>\n",
       "</table>\n",
       "</div>"
      ],
      "text/plain": [
       "                            차품목 효능번호 카페인  향기준\n",
       "0                  Bengal Spice    1   X    2\n",
       "1            BerryBlossom White    1   O    1\n",
       "2            Black Cherry Berry    3   X    1\n",
       "3  Breakfast in Paris Black Tea    1   O  1,4\n",
       "4          ButterScotch Blondie    3   O    4"
      ]
     },
     "execution_count": 336,
     "metadata": {},
     "output_type": "execute_result"
    }
   ],
   "source": [
    "df = pd.DataFrame(meta)\n",
    "df.head()\n"
   ]
  },
  {
   "cell_type": "code",
   "execution_count": 337,
   "id": "211c32e5",
   "metadata": {
    "scrolled": true
   },
   "outputs": [
    {
     "data": {
      "text/plain": [
       "차품목     object\n",
       "효능번호    object\n",
       "카페인     object\n",
       "향기준     object\n",
       "dtype: object"
      ]
     },
     "execution_count": 337,
     "metadata": {},
     "output_type": "execute_result"
    }
   ],
   "source": [
    "df.dtypes\n"
   ]
  },
  {
   "cell_type": "code",
   "execution_count": 338,
   "id": "9c43f4eb",
   "metadata": {},
   "outputs": [
    {
     "data": {
      "text/html": [
       "<div>\n",
       "<style scoped>\n",
       "    .dataframe tbody tr th:only-of-type {\n",
       "        vertical-align: middle;\n",
       "    }\n",
       "\n",
       "    .dataframe tbody tr th {\n",
       "        vertical-align: top;\n",
       "    }\n",
       "\n",
       "    .dataframe thead th {\n",
       "        text-align: right;\n",
       "    }\n",
       "</style>\n",
       "<table border=\"1\" class=\"dataframe\">\n",
       "  <thead>\n",
       "    <tr style=\"text-align: right;\">\n",
       "      <th></th>\n",
       "      <th>차품목</th>\n",
       "      <th>효능번호</th>\n",
       "      <th>splithyo</th>\n",
       "      <th>카페인</th>\n",
       "      <th>향기준</th>\n",
       "      <th>splithyang</th>\n",
       "    </tr>\n",
       "  </thead>\n",
       "  <tbody>\n",
       "    <tr>\n",
       "      <th>0</th>\n",
       "      <td>Bengal Spice</td>\n",
       "      <td>1</td>\n",
       "      <td>[1]</td>\n",
       "      <td>X</td>\n",
       "      <td>2</td>\n",
       "      <td>[2]</td>\n",
       "    </tr>\n",
       "    <tr>\n",
       "      <th>1</th>\n",
       "      <td>BerryBlossom White</td>\n",
       "      <td>1</td>\n",
       "      <td>[1]</td>\n",
       "      <td>O</td>\n",
       "      <td>1</td>\n",
       "      <td>[1]</td>\n",
       "    </tr>\n",
       "    <tr>\n",
       "      <th>2</th>\n",
       "      <td>Black Cherry Berry</td>\n",
       "      <td>3</td>\n",
       "      <td>[3]</td>\n",
       "      <td>X</td>\n",
       "      <td>1</td>\n",
       "      <td>[1]</td>\n",
       "    </tr>\n",
       "    <tr>\n",
       "      <th>3</th>\n",
       "      <td>Breakfast in Paris Black Tea</td>\n",
       "      <td>1</td>\n",
       "      <td>[1]</td>\n",
       "      <td>O</td>\n",
       "      <td>1,4</td>\n",
       "      <td>[1, 4]</td>\n",
       "    </tr>\n",
       "    <tr>\n",
       "      <th>4</th>\n",
       "      <td>ButterScotch Blondie</td>\n",
       "      <td>3</td>\n",
       "      <td>[3]</td>\n",
       "      <td>O</td>\n",
       "      <td>4</td>\n",
       "      <td>[4]</td>\n",
       "    </tr>\n",
       "    <tr>\n",
       "      <th>...</th>\n",
       "      <td>...</td>\n",
       "      <td>...</td>\n",
       "      <td>...</td>\n",
       "      <td>...</td>\n",
       "      <td>...</td>\n",
       "      <td>...</td>\n",
       "    </tr>\n",
       "    <tr>\n",
       "      <th>65</th>\n",
       "      <td>요기티 Yogi Tea 스토맥 이즈 티 16티백</td>\n",
       "      <td>4</td>\n",
       "      <td>[4]</td>\n",
       "      <td>X</td>\n",
       "      <td>2,3</td>\n",
       "      <td>[2, 3]</td>\n",
       "    </tr>\n",
       "    <tr>\n",
       "      <th>66</th>\n",
       "      <td>요기티 Yogi Tea 진저 티 16티백</td>\n",
       "      <td>2,4</td>\n",
       "      <td>[2, 4]</td>\n",
       "      <td>X</td>\n",
       "      <td>2</td>\n",
       "      <td>[2]</td>\n",
       "    </tr>\n",
       "    <tr>\n",
       "      <th>67</th>\n",
       "      <td>요기티 Yogi Tea 콜드 시즌 티 16티백</td>\n",
       "      <td>4</td>\n",
       "      <td>[4]</td>\n",
       "      <td>X</td>\n",
       "      <td>2,3,4</td>\n",
       "      <td>[2, 3, 4]</td>\n",
       "    </tr>\n",
       "    <tr>\n",
       "      <th>68</th>\n",
       "      <td>요기티 Yogi Tea 트롯 컴포트 티 허니 레몬 16티백</td>\n",
       "      <td>4</td>\n",
       "      <td>[4]</td>\n",
       "      <td>X</td>\n",
       "      <td>1</td>\n",
       "      <td>[1]</td>\n",
       "    </tr>\n",
       "    <tr>\n",
       "      <th>69</th>\n",
       "      <td>요기티 Yogi Tea 피치 디톡스 티 16티백</td>\n",
       "      <td>4</td>\n",
       "      <td>[4]</td>\n",
       "      <td>X</td>\n",
       "      <td>1</td>\n",
       "      <td>[1]</td>\n",
       "    </tr>\n",
       "  </tbody>\n",
       "</table>\n",
       "<p>70 rows × 6 columns</p>\n",
       "</div>"
      ],
      "text/plain": [
       "                                 차품목 효능번호 splithyo 카페인    향기준 splithyang\n",
       "0                       Bengal Spice    1      [1]   X      2        [2]\n",
       "1                 BerryBlossom White    1      [1]   O      1        [1]\n",
       "2                 Black Cherry Berry    3      [3]   X      1        [1]\n",
       "3       Breakfast in Paris Black Tea    1      [1]   O    1,4     [1, 4]\n",
       "4               ButterScotch Blondie    3      [3]   O      4        [4]\n",
       "..                               ...  ...      ...  ..    ...        ...\n",
       "65        요기티 Yogi Tea 스토맥 이즈 티 16티백    4      [4]   X    2,3     [2, 3]\n",
       "66            요기티 Yogi Tea 진저 티 16티백  2,4   [2, 4]   X      2        [2]\n",
       "67         요기티 Yogi Tea 콜드 시즌 티 16티백    4      [4]   X  2,3,4  [2, 3, 4]\n",
       "68  요기티 Yogi Tea 트롯 컴포트 티 허니 레몬 16티백    4      [4]   X      1        [1]\n",
       "69        요기티 Yogi Tea 피치 디톡스 티 16티백    4      [4]   X      1        [1]\n",
       "\n",
       "[70 rows x 6 columns]"
      ]
     },
     "execution_count": 338,
     "metadata": {},
     "output_type": "execute_result"
    }
   ],
   "source": [
    "df.insert(2,'splithyo',df.효능번호.str.split(','))\n",
    "df.insert(5,'splithyang',df.향기준.str.split(','))\n",
    "df"
   ]
  },
  {
   "cell_type": "code",
   "execution_count": 339,
   "id": "bfaf9b54",
   "metadata": {},
   "outputs": [
    {
     "data": {
      "text/plain": [
       "차품목           object\n",
       "효능번호          object\n",
       "splithyo      object\n",
       "카페인           object\n",
       "향기준           object\n",
       "splithyang    object\n",
       "dtype: object"
      ]
     },
     "execution_count": 339,
     "metadata": {},
     "output_type": "execute_result"
    }
   ],
   "source": [
    "df.dtypes\n"
   ]
  },
  {
   "cell_type": "code",
   "execution_count": 340,
   "id": "6883fc25",
   "metadata": {},
   "outputs": [],
   "source": [
    "def hyo_check(nations):\n",
    "    n_list = []\n",
    "    \n",
    "    for nation in nations:\n",
    "        if nation == hyo:\n",
    "            n_list.append(True)\n",
    "        else:\n",
    "            n_list.append(False)\n",
    "            \n",
    "    if np.sum(n_list)>=1:\n",
    "        return True\n",
    "    \n",
    "    else :\n",
    "        return False"
   ]
  },
  {
   "cell_type": "code",
   "execution_count": 341,
   "id": "3da4a262",
   "metadata": {},
   "outputs": [],
   "source": [
    "def hyang_check(nations):\n",
    "    n1_list = []\n",
    "    \n",
    "    for nation in nations:\n",
    "        if nation == hyang:\n",
    "            n1_list.append(True)\n",
    "        else:\n",
    "            n1_list.append(False)\n",
    "            \n",
    "    if np.sum(n1_list)>=1:\n",
    "        return True\n",
    "    \n",
    "    else :\n",
    "        return False"
   ]
  },
  {
   "cell_type": "code",
   "execution_count": 342,
   "id": "3602f1bf",
   "metadata": {},
   "outputs": [
    {
     "data": {
      "text/plain": [
       "0     True\n",
       "1     True\n",
       "2    False\n",
       "3     True\n",
       "4    False\n",
       "5    False\n",
       "6    False\n",
       "7    False\n",
       "8    False\n",
       "9    False\n",
       "Name: splithyo, dtype: bool"
      ]
     },
     "execution_count": 342,
     "metadata": {},
     "output_type": "execute_result"
    }
   ],
   "source": [
    "df.splithyo[:10].apply(hyo_check)"
   ]
  },
  {
   "cell_type": "code",
   "execution_count": 343,
   "id": "19c1973e",
   "metadata": {},
   "outputs": [
    {
     "data": {
      "text/plain": [
       "0      True\n",
       "1     False\n",
       "2     False\n",
       "3     False\n",
       "4     False\n",
       "      ...  \n",
       "65     True\n",
       "66     True\n",
       "67     True\n",
       "68    False\n",
       "69    False\n",
       "Name: splithyang, Length: 70, dtype: bool"
      ]
     },
     "execution_count": 343,
     "metadata": {},
     "output_type": "execute_result"
    }
   ],
   "source": [
    "df.splithyang.apply(hyang_check)"
   ]
  },
  {
   "cell_type": "code",
   "execution_count": 344,
   "id": "8161338e",
   "metadata": {},
   "outputs": [
    {
     "data": {
      "text/plain": [
       "13"
      ]
     },
     "execution_count": 344,
     "metadata": {},
     "output_type": "execute_result"
    }
   ],
   "source": [
    "df.splithyo.apply(hyo_check).sum()\n",
    "#검색필터 개수(효능)\n"
   ]
  },
  {
   "cell_type": "code",
   "execution_count": 345,
   "id": "7c33f72a",
   "metadata": {},
   "outputs": [
    {
     "data": {
      "text/plain": [
       "8"
      ]
     },
     "execution_count": 345,
     "metadata": {},
     "output_type": "execute_result"
    }
   ],
   "source": [
    "(df.효능번호 =='1').sum()\n",
    "#검색필터 개수(효능 중에 \",\" 값 제외)"
   ]
  },
  {
   "cell_type": "code",
   "execution_count": 346,
   "id": "bfea16b3",
   "metadata": {},
   "outputs": [
    {
     "data": {
      "text/plain": [
       "23"
      ]
     },
     "execution_count": 346,
     "metadata": {},
     "output_type": "execute_result"
    }
   ],
   "source": [
    "df.splithyang.apply(hyang_check).sum()\n",
    "#검색필터 개수(향)"
   ]
  },
  {
   "cell_type": "code",
   "execution_count": 347,
   "id": "4f47bdfa",
   "metadata": {},
   "outputs": [
    {
     "name": "stdout",
     "output_type": "stream",
     "text": [
      "(3, 6)\n"
     ]
    },
    {
     "data": {
      "text/html": [
       "<div>\n",
       "<style scoped>\n",
       "    .dataframe tbody tr th:only-of-type {\n",
       "        vertical-align: middle;\n",
       "    }\n",
       "\n",
       "    .dataframe tbody tr th {\n",
       "        vertical-align: top;\n",
       "    }\n",
       "\n",
       "    .dataframe thead th {\n",
       "        text-align: right;\n",
       "    }\n",
       "</style>\n",
       "<table border=\"1\" class=\"dataframe\">\n",
       "  <thead>\n",
       "    <tr style=\"text-align: right;\">\n",
       "      <th></th>\n",
       "      <th>차품목</th>\n",
       "      <th>효능번호</th>\n",
       "      <th>splithyo</th>\n",
       "      <th>카페인</th>\n",
       "      <th>향기준</th>\n",
       "      <th>splithyang</th>\n",
       "    </tr>\n",
       "  </thead>\n",
       "  <tbody>\n",
       "    <tr>\n",
       "      <th>0</th>\n",
       "      <td>Bengal Spice</td>\n",
       "      <td>1</td>\n",
       "      <td>[1]</td>\n",
       "      <td>X</td>\n",
       "      <td>2</td>\n",
       "      <td>[2]</td>\n",
       "    </tr>\n",
       "    <tr>\n",
       "      <th>11</th>\n",
       "      <td>Cinnamon Apple Spice</td>\n",
       "      <td>1,4</td>\n",
       "      <td>[1, 4]</td>\n",
       "      <td>X</td>\n",
       "      <td>1,2</td>\n",
       "      <td>[1, 2]</td>\n",
       "    </tr>\n",
       "    <tr>\n",
       "      <th>35</th>\n",
       "      <td>Licorice Spcie Herbal Tea</td>\n",
       "      <td>1</td>\n",
       "      <td>[1]</td>\n",
       "      <td>X</td>\n",
       "      <td>1,2</td>\n",
       "      <td>[1, 2]</td>\n",
       "    </tr>\n",
       "  </tbody>\n",
       "</table>\n",
       "</div>"
      ],
      "text/plain": [
       "                          차품목 효능번호 splithyo 카페인  향기준 splithyang\n",
       "0                Bengal Spice    1      [1]   X    2        [2]\n",
       "11       Cinnamon Apple Spice  1,4   [1, 4]   X  1,2     [1, 2]\n",
       "35  Licorice Spcie Herbal Tea    1      [1]   X  1,2     [1, 2]"
      ]
     },
     "execution_count": 347,
     "metadata": {},
     "output_type": "execute_result"
    }
   ],
   "source": [
    "#필터링 조건\n",
    "\n",
    "cond = (df.splithyo.apply(hyo_check )) \n",
    "cond1 = (df.splithyang.apply(hyang_check ))\n",
    "cond2 = df.카페인==caff\n",
    "\n",
    "\n",
    "Kr_df = df[cond &cond1 &cond2]\n",
    "\n",
    "\n",
    "\n",
    "print(Kr_df.shape)\n",
    "#필터링출력값\n",
    "Kr_df\n",
    "\n",
    "\n",
    "\n"
   ]
  },
  {
   "cell_type": "code",
   "execution_count": 349,
   "id": "f4a51f27",
   "metadata": {},
   "outputs": [
    {
     "data": {
      "text/plain": [
       "0                  Bengal Spice\n",
       "11         Cinnamon Apple Spice\n",
       "35    Licorice Spcie Herbal Tea\n",
       "Name: 차품목, dtype: object"
      ]
     },
     "execution_count": 349,
     "metadata": {},
     "output_type": "execute_result"
    }
   ],
   "source": [
    "Kr_df.차품목"
   ]
  },
  {
   "cell_type": "code",
   "execution_count": null,
   "id": "04bfac33",
   "metadata": {},
   "outputs": [],
   "source": []
  }
 ],
 "metadata": {
  "kernelspec": {
   "display_name": "Python 3 (ipykernel)",
   "language": "python",
   "name": "python3"
  },
  "language_info": {
   "codemirror_mode": {
    "name": "ipython",
    "version": 3
   },
   "file_extension": ".py",
   "mimetype": "text/x-python",
   "name": "python",
   "nbconvert_exporter": "python",
   "pygments_lexer": "ipython3",
   "version": "3.9.6"
  }
 },
 "nbformat": 4,
 "nbformat_minor": 5
}
